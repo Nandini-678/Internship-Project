{
 "cells": [
  {
   "cell_type": "code",
   "execution_count": 1,
   "id": "408dc295",
   "metadata": {},
   "outputs": [],
   "source": [
    "import numpy as np\n",
    "import matplotlib.pyplot as plt\n",
    "import pandas as pd\n",
    "\n",
    "from sklearn.tree import DecisionTreeClassifier # Import Decision Tree Classifier\n",
    "from sklearn.model_selection import train_test_split # Import train_test_split function\n",
    "from sklearn import metrics #Import scikit-learn metrics module for accuracy calculation"
   ]
  },
  {
   "cell_type": "code",
   "execution_count": 2,
   "id": "67ed5f36",
   "metadata": {},
   "outputs": [],
   "source": [
    "df = pd.read_csv(\"data.csv\")"
   ]
  },
  {
   "cell_type": "code",
   "execution_count": 3,
   "id": "ed972087",
   "metadata": {},
   "outputs": [
    {
     "data": {
      "text/html": [
       "<div>\n",
       "<style scoped>\n",
       "    .dataframe tbody tr th:only-of-type {\n",
       "        vertical-align: middle;\n",
       "    }\n",
       "\n",
       "    .dataframe tbody tr th {\n",
       "        vertical-align: top;\n",
       "    }\n",
       "\n",
       "    .dataframe thead th {\n",
       "        text-align: right;\n",
       "    }\n",
       "</style>\n",
       "<table border=\"1\" class=\"dataframe\">\n",
       "  <thead>\n",
       "    <tr style=\"text-align: right;\">\n",
       "      <th></th>\n",
       "      <th>Your Roll Number</th>\n",
       "      <th>Your Section</th>\n",
       "      <th>CLA</th>\n",
       "      <th>Mid</th>\n",
       "      <th>Lab Internal</th>\n",
       "      <th>Therory total</th>\n",
       "      <th>Attendance</th>\n",
       "      <th>Performance</th>\n",
       "    </tr>\n",
       "  </thead>\n",
       "  <tbody>\n",
       "    <tr>\n",
       "      <th>0</th>\n",
       "      <td>19110010001</td>\n",
       "      <td>CSE A</td>\n",
       "      <td>7</td>\n",
       "      <td>12</td>\n",
       "      <td>42</td>\n",
       "      <td>38</td>\n",
       "      <td>90 to 95%</td>\n",
       "      <td>Good</td>\n",
       "    </tr>\n",
       "    <tr>\n",
       "      <th>1</th>\n",
       "      <td>19110010002</td>\n",
       "      <td>CSE A</td>\n",
       "      <td>6</td>\n",
       "      <td>10</td>\n",
       "      <td>35</td>\n",
       "      <td>32</td>\n",
       "      <td>96 to 100%</td>\n",
       "      <td>Average</td>\n",
       "    </tr>\n",
       "    <tr>\n",
       "      <th>2</th>\n",
       "      <td>19110010003</td>\n",
       "      <td>CSE A</td>\n",
       "      <td>6</td>\n",
       "      <td>13</td>\n",
       "      <td>38</td>\n",
       "      <td>38</td>\n",
       "      <td>90 to 95%</td>\n",
       "      <td>Good</td>\n",
       "    </tr>\n",
       "    <tr>\n",
       "      <th>3</th>\n",
       "      <td>19110010004</td>\n",
       "      <td>CSE A</td>\n",
       "      <td>7</td>\n",
       "      <td>11</td>\n",
       "      <td>36</td>\n",
       "      <td>36</td>\n",
       "      <td>96 to 100%</td>\n",
       "      <td>Good</td>\n",
       "    </tr>\n",
       "    <tr>\n",
       "      <th>4</th>\n",
       "      <td>19110010005</td>\n",
       "      <td>CSE D</td>\n",
       "      <td>6</td>\n",
       "      <td>9</td>\n",
       "      <td>49</td>\n",
       "      <td>30</td>\n",
       "      <td>96 to 100%</td>\n",
       "      <td>Poor</td>\n",
       "    </tr>\n",
       "  </tbody>\n",
       "</table>\n",
       "</div>"
      ],
      "text/plain": [
       "   Your Roll Number Your Section  CLA  Mid  Lab Internal  Therory total  \\\n",
       "0       19110010001        CSE A    7   12            42             38   \n",
       "1       19110010002        CSE A    6   10            35             32   \n",
       "2       19110010003        CSE A    6   13            38             38   \n",
       "3       19110010004        CSE A    7   11            36             36   \n",
       "4       19110010005        CSE D    6    9            49             30   \n",
       "\n",
       "   Attendance Performance  \n",
       "0   90 to 95%        Good  \n",
       "1  96 to 100%     Average  \n",
       "2   90 to 95%        Good  \n",
       "3  96 to 100%        Good  \n",
       "4  96 to 100%        Poor  "
      ]
     },
     "execution_count": 3,
     "metadata": {},
     "output_type": "execute_result"
    }
   ],
   "source": [
    "df.head()"
   ]
  },
  {
   "cell_type": "code",
   "execution_count": 4,
   "id": "033f460e",
   "metadata": {},
   "outputs": [],
   "source": [
    "#split dataset in features and target variable\n",
    "feature_cols = ['CLA', 'Mid', 'Lab Internal', 'Therory total']\n",
    "X = df[feature_cols] # Features\n",
    "y = df.Performance # Target variable"
   ]
  },
  {
   "cell_type": "code",
   "execution_count": 5,
   "id": "826c543b",
   "metadata": {},
   "outputs": [],
   "source": [
    "# Split dataset into training set and test set\n",
    "X_train, X_test, y_train, y_test = train_test_split(X, y, test_size=0.3, random_state=1) \n",
    "# 80% training and 20% test"
   ]
  },
  {
   "cell_type": "code",
   "execution_count": 6,
   "id": "d411efcf",
   "metadata": {},
   "outputs": [],
   "source": [
    "from sklearn.tree import DecisionTreeClassifier\n",
    "dcls = DecisionTreeClassifier(max_depth= 5)"
   ]
  },
  {
   "cell_type": "code",
   "execution_count": 7,
   "id": "9c1dcf18",
   "metadata": {},
   "outputs": [
    {
     "data": {
      "text/plain": [
       "DecisionTreeClassifier(max_depth=5)"
      ]
     },
     "execution_count": 7,
     "metadata": {},
     "output_type": "execute_result"
    }
   ],
   "source": [
    "dcls.fit(X_train,y_train)"
   ]
  },
  {
   "cell_type": "code",
   "execution_count": 8,
   "id": "b1c881fd",
   "metadata": {},
   "outputs": [],
   "source": [
    "y_pred = dcls.predict(X_test)"
   ]
  },
  {
   "cell_type": "code",
   "execution_count": 9,
   "id": "e3ae5a07",
   "metadata": {},
   "outputs": [
    {
     "data": {
      "text/plain": [
       "array(['Good', 'Average', 'Very Good', 'Average', 'Excellent', 'Poor',\n",
       "       'Good', 'Poor', 'Good', 'Very Good', 'Good', 'Good', 'Excellent',\n",
       "       'Average', 'Average', 'Good', 'Very Good', 'Very Good', 'Average',\n",
       "       'Good', 'Average', 'Good', 'Good', 'Good', 'Poor', 'Good',\n",
       "       'Average', 'Very Good', 'Good', 'Very Good', 'Good', 'Good',\n",
       "       'Poor', 'Excellent', 'Good', 'Good', 'Very Good', 'Good',\n",
       "       'Very Good', 'Good', 'Poor', 'Very Good', 'Excellent', 'Good',\n",
       "       'Very Good', 'Average', 'Very Good', 'Very Good', 'Very Good',\n",
       "       'Average', 'Very Good', 'Very Good', 'Good', 'Average',\n",
       "       'Very Good', 'Very Good', 'Very Good', 'Good', 'Good', 'Average'],\n",
       "      dtype=object)"
      ]
     },
     "execution_count": 9,
     "metadata": {},
     "output_type": "execute_result"
    }
   ],
   "source": [
    "y_pred"
   ]
  },
  {
   "cell_type": "code",
   "execution_count": 10,
   "id": "27b1485d",
   "metadata": {},
   "outputs": [],
   "source": [
    "from sklearn.metrics import accuracy_score, confusion_matrix"
   ]
  },
  {
   "cell_type": "code",
   "execution_count": 11,
   "id": "52902d5c",
   "metadata": {},
   "outputs": [
    {
     "data": {
      "text/plain": [
       "100.0"
      ]
     },
     "execution_count": 11,
     "metadata": {},
     "output_type": "execute_result"
    }
   ],
   "source": [
    "accuracy_score(y_test,y_pred)* 100"
   ]
  },
  {
   "cell_type": "code",
   "execution_count": 12,
   "id": "487cff50",
   "metadata": {},
   "outputs": [
    {
     "data": {
      "text/plain": [
       "array([[11,  0,  0,  0,  0],\n",
       "       [ 0,  4,  0,  0,  0],\n",
       "       [ 0,  0, 22,  0,  0],\n",
       "       [ 0,  0,  0,  5,  0],\n",
       "       [ 0,  0,  0,  0, 18]], dtype=int64)"
      ]
     },
     "execution_count": 12,
     "metadata": {},
     "output_type": "execute_result"
    }
   ],
   "source": [
    "confusion_matrix(y_test,y_pred)"
   ]
  },
  {
   "cell_type": "code",
   "execution_count": 13,
   "id": "c2b8247a",
   "metadata": {},
   "outputs": [
    {
     "data": {
      "text/plain": [
       "(60,)"
      ]
     },
     "execution_count": 13,
     "metadata": {},
     "output_type": "execute_result"
    }
   ],
   "source": [
    "\n",
    "y_test.shape"
   ]
  },
  {
   "cell_type": "code",
   "execution_count": 14,
   "id": "d84920f0",
   "metadata": {},
   "outputs": [],
   "source": [
    "from sklearn import tree\n",
    "import matplotlib.pyplot as plt"
   ]
  },
  {
   "cell_type": "code",
   "execution_count": 15,
   "id": "1158ccf0",
   "metadata": {},
   "outputs": [
    {
     "data": {
      "image/png": "[encoded data removed]",
      "text/plain": [
       "<Figure size 720x864 with 1 Axes>"
      ]
     },
     "metadata": {
      "needs_background": "light"
     },
     "output_type": "display_data"
    }
   ],
   "source": [
    "plt.figure(figsize = (10,12))\n",
    "tree.plot_tree(dcls)\n",
    "plt.show()"
   ]
  },
  {
   "cell_type": "code",
   "execution_count": null,
   "id": "f7658b06",
   "metadata": {},
   "outputs": [],
   "source": []
  }
 ],
 "metadata": {
  "kernelspec": {
   "display_name": "Python 3",
   "language": "python",
   "name": "python3"
  },
  "language_info": {
   "codemirror_mode": {
    "name": "ipython",
    "version": 3
   },
   "file_extension": ".py",
   "mimetype": "text/x-python",
   "name": "python",
   "nbconvert_exporter": "python",
   "pygments_lexer": "ipython3",
   "version": "3.8.8"
  }
 },
 "nbformat": 4,
 "nbformat_minor": 5
}
