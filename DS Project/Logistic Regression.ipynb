{
 "cells": [
  {
   "cell_type": "code",
   "execution_count": 1,
   "id": "1983f3d6",
   "metadata": {},
   "outputs": [],
   "source": [
    "import pandas as pd\n",
    "import numpy as np\n",
    "import matplotlib.pyplot as plt\n",
    "import seaborn as sns"
   ]
  },
  {
   "cell_type": "code",
   "execution_count": 2,
   "id": "0e8712dc",
   "metadata": {},
   "outputs": [],
   "source": [
    "df = pd.read_csv(\"data.csv\")"
   ]
  },
  {
   "cell_type": "code",
   "execution_count": 3,
   "id": "3b3b6bdc",
   "metadata": {},
   "outputs": [
    {
     "data": {
      "text/html": [
       "<div>\n",
       "<style scoped>\n",
       "    .dataframe tbody tr th:only-of-type {\n",
       "        vertical-align: middle;\n",
       "    }\n",
       "\n",
       "    .dataframe tbody tr th {\n",
       "        vertical-align: top;\n",
       "    }\n",
       "\n",
       "    .dataframe thead th {\n",
       "        text-align: right;\n",
       "    }\n",
       "</style>\n",
       "<table border=\"1\" class=\"dataframe\">\n",
       "  <thead>\n",
       "    <tr style=\"text-align: right;\">\n",
       "      <th></th>\n",
       "      <th>Your Roll Number</th>\n",
       "      <th>Your Section</th>\n",
       "      <th>CLA</th>\n",
       "      <th>Mid</th>\n",
       "      <th>Lab Internal</th>\n",
       "      <th>Therory total</th>\n",
       "      <th>Attendance</th>\n",
       "      <th>Performance</th>\n",
       "    </tr>\n",
       "  </thead>\n",
       "  <tbody>\n",
       "    <tr>\n",
       "      <th>0</th>\n",
       "      <td>19110010001</td>\n",
       "      <td>CSE A</td>\n",
       "      <td>7</td>\n",
       "      <td>12</td>\n",
       "      <td>42</td>\n",
       "      <td>38</td>\n",
       "      <td>90 to 95%</td>\n",
       "      <td>Good</td>\n",
       "    </tr>\n",
       "    <tr>\n",
       "      <th>1</th>\n",
       "      <td>19110010002</td>\n",
       "      <td>CSE A</td>\n",
       "      <td>6</td>\n",
       "      <td>10</td>\n",
       "      <td>35</td>\n",
       "      <td>32</td>\n",
       "      <td>96 to 100%</td>\n",
       "      <td>Average</td>\n",
       "    </tr>\n",
       "    <tr>\n",
       "      <th>2</th>\n",
       "      <td>19110010003</td>\n",
       "      <td>CSE A</td>\n",
       "      <td>6</td>\n",
       "      <td>13</td>\n",
       "      <td>38</td>\n",
       "      <td>38</td>\n",
       "      <td>90 to 95%</td>\n",
       "      <td>Good</td>\n",
       "    </tr>\n",
       "    <tr>\n",
       "      <th>3</th>\n",
       "      <td>19110010004</td>\n",
       "      <td>CSE A</td>\n",
       "      <td>7</td>\n",
       "      <td>11</td>\n",
       "      <td>36</td>\n",
       "      <td>36</td>\n",
       "      <td>96 to 100%</td>\n",
       "      <td>Good</td>\n",
       "    </tr>\n",
       "    <tr>\n",
       "      <th>4</th>\n",
       "      <td>19110010005</td>\n",
       "      <td>CSE D</td>\n",
       "      <td>6</td>\n",
       "      <td>9</td>\n",
       "      <td>49</td>\n",
       "      <td>30</td>\n",
       "      <td>96 to 100%</td>\n",
       "      <td>Poor</td>\n",
       "    </tr>\n",
       "  </tbody>\n",
       "</table>\n",
       "</div>"
      ],
      "text/plain": [
       "   Your Roll Number Your Section  CLA  Mid  Lab Internal  Therory total  \\\n",
       "0       19110010001        CSE A    7   12            42             38   \n",
       "1       19110010002        CSE A    6   10            35             32   \n",
       "2       19110010003        CSE A    6   13            38             38   \n",
       "3       19110010004        CSE A    7   11            36             36   \n",
       "4       19110010005        CSE D    6    9            49             30   \n",
       "\n",
       "   Attendance Performance  \n",
       "0   90 to 95%        Good  \n",
       "1  96 to 100%     Average  \n",
       "2   90 to 95%        Good  \n",
       "3  96 to 100%        Good  \n",
       "4  96 to 100%        Poor  "
      ]
     },
     "execution_count": 3,
     "metadata": {},
     "output_type": "execute_result"
    }
   ],
   "source": [
    "df.head()"
   ]
  },
  {
   "cell_type": "code",
   "execution_count": 4,
   "id": "9324b653",
   "metadata": {},
   "outputs": [],
   "source": [
    "X = df.iloc[:,2 :-2].values\n",
    "y = df.iloc[:, 7].values"
   ]
  },
  {
   "cell_type": "code",
   "execution_count": 9,
   "id": "4af203af",
   "metadata": {},
   "outputs": [],
   "source": [
    "### Training and testing the model:\n",
    "\n",
    "from sklearn.model_selection import train_test_split\n",
    "X_train,X_test,y_train,y_test = train_test_split(X,y,test_size = 0.20,random_state = 0)"
   ]
  },
  {
   "cell_type": "code",
   "execution_count": 10,
   "id": "73b4f922",
   "metadata": {},
   "outputs": [
    {
     "name": "stderr",
     "output_type": "stream",
     "text": [
      "C:\\Users\\NANTHINI REDDY\\anaconda3\\lib\\site-packages\\sklearn\\linear_model\\_logistic.py:763: ConvergenceWarning: lbfgs failed to converge (status=1):\n",
      "STOP: TOTAL NO. of ITERATIONS REACHED LIMIT.\n",
      "\n",
      "Increase the number of iterations (max_iter) or scale the data as shown in:\n",
      "    https://scikit-learn.org/stable/modules/preprocessing.html\n",
      "Please also refer to the documentation for alternative solver options:\n",
      "    https://scikit-learn.org/stable/modules/linear_model.html#logistic-regression\n",
      "  n_iter_i = _check_optimize_result(\n"
     ]
    },
    {
     "data": {
      "text/plain": [
       "LogisticRegression()"
      ]
     },
     "execution_count": 10,
     "metadata": {},
     "output_type": "execute_result"
    }
   ],
   "source": [
    "### Applying the logistic regression:\n",
    "\n",
    "from sklearn.linear_model import LogisticRegression\n",
    "lr = LogisticRegression()\n",
    "lr.fit(X_train,y_train)"
   ]
  },
  {
   "cell_type": "code",
   "execution_count": 11,
   "id": "56d8f701",
   "metadata": {},
   "outputs": [
    {
     "data": {
      "text/plain": [
       "array(['Good', 'Excellent', 'Good', 'Good', 'Excellent', 'Poor',\n",
       "       'Average', 'Good', 'Good', 'Average', 'Good', 'Excellent', 'Good',\n",
       "       'Good', 'Very Good', 'Poor', 'Very Good', 'Good', 'Good', 'Good',\n",
       "       'Good', 'Excellent', 'Good', 'Good', 'Very Good', 'Excellent',\n",
       "       'Good', 'Good', 'Good', 'Good', 'Very Good', 'Good', 'Very Good',\n",
       "       'Average', 'Very Good', 'Good', 'Good', 'Poor', 'Good', 'Good'],\n",
       "      dtype=object)"
      ]
     },
     "execution_count": 11,
     "metadata": {},
     "output_type": "execute_result"
    }
   ],
   "source": [
    "y_pred = lr.predict(X_test)\n",
    "y_pred"
   ]
  },
  {
   "cell_type": "code",
   "execution_count": 12,
   "id": "dc0f52a4",
   "metadata": {},
   "outputs": [],
   "source": [
    "### checking the accuracy of the model:\n",
    "\n",
    "from sklearn.metrics import accuracy_score,confusion_matrix\n",
    "from sklearn import metrics"
   ]
  },
  {
   "cell_type": "code",
   "execution_count": 13,
   "id": "432aece0",
   "metadata": {},
   "outputs": [
    {
     "name": "stdout",
     "output_type": "stream",
     "text": [
      "Confusion matrix:  [[ 2  0  1  0  0]\n",
      " [ 0  3  3  0  2]\n",
      " [ 1  0 11  0  2]\n",
      " [ 0  0  1  3  0]\n",
      " [ 0  2  7  0  2]]\n"
     ]
    }
   ],
   "source": [
    "c_matrix = confusion_matrix(y_test,y_pred)\n",
    "print(\"Confusion matrix: \",c_matrix)"
   ]
  },
  {
   "cell_type": "code",
   "execution_count": 18,
   "id": "41a874a4",
   "metadata": {},
   "outputs": [
    {
     "name": "stdout",
     "output_type": "stream",
     "text": [
      "Accuracy score:  0.525\n"
     ]
    }
   ],
   "source": [
    "print(\"Accuracy score: \",accuracy_score(y_test,y_pred))\n"
   ]
  },
  {
   "cell_type": "code",
   "execution_count": 15,
   "id": "d5555b09",
   "metadata": {},
   "outputs": [
    {
     "data": {
      "image/png": "[encoded data removed]",
      "text/plain": [
       "<Figure size 432x288 with 2 Axes>"
      ]
     },
     "metadata": {
      "needs_background": "light"
     },
     "output_type": "display_data"
    }
   ],
   "source": [
    "##plot for confusion matrix:\n",
    "\n",
    "class_names = [0,1]\n",
    "fig,ax = plt.subplots()\n",
    "tick_marks = np.arange(len(class_names))\n",
    "plt.xticks(tick_marks,class_names)\n",
    "plt.yticks(tick_marks,class_names)\n",
    "sns.heatmap(pd.DataFrame(c_matrix),annot = True,cmap = \"Purples\",fmt = 'g')\n",
    "ax.xaxis.set_label_position(\"top\")\n",
    "plt.xlabel(\"predicted values\")\n",
    "plt.ylabel(\"Actual values\")\n",
    "plt.title(\"Confusion Matrix\")\n",
    "plt.show()"
   ]
  },
  {
   "cell_type": "code",
   "execution_count": null,
   "id": "be3174ca",
   "metadata": {},
   "outputs": [],
   "source": []
  }
 ],
 "metadata": {
  "kernelspec": {
   "display_name": "Python 3",
   "language": "python",
   "name": "python3"
  },
  "language_info": {
   "codemirror_mode": {
    "name": "ipython",
    "version": 3
   },
   "file_extension": ".py",
   "mimetype": "text/x-python",
   "name": "python",
   "nbconvert_exporter": "python",
   "pygments_lexer": "ipython3",
   "version": "3.8.8"
  }
 },
 "nbformat": 4,
 "nbformat_minor": 5
}
